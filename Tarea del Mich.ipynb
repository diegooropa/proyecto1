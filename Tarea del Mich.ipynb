{
 "cells": [
  {
   "cell_type": "code",
   "execution_count": 6,
   "metadata": {},
   "outputs": [
    {
     "name": "stdout",
     "output_type": "stream",
     "text": [
      "adivina un número del 1 al 10 3\n",
      "Numero incorrecto\n",
      "\n",
      "adivina un número del 1 al 10 6\n",
      "Numero incorrecto\n",
      "\n",
      "adivina un número del 1 al 10 9\n",
      "Correcto\n",
      "Fin del juego, el número era:  9\n"
     ]
    }
   ],
   "source": [
    "i=1\n",
    "import random as ran\n",
    "num_adivinar = ran.randint(1,10)\n",
    "while i <= 3:\n",
    "    x = int(input (\"adivina un número del 1 al 10 \"))\n",
    "    if x == num_adivinar:\n",
    "        print(\"Correcto\")\n",
    "        break\n",
    "    else:\n",
    "        print(\"Numero incorrecto\\n\")\n",
    "    i+=1\n",
    "\n",
    "print(\"Fin del juego, el número era: \", num_adivinar)"
   ]
  },
  {
   "cell_type": "code",
   "execution_count": 7,
   "metadata": {},
   "outputs": [
    {
     "data": {
      "text/plain": [
       "'C:\\\\Users\\\\diego'"
      ]
     },
     "execution_count": 7,
     "metadata": {},
     "output_type": "execute_result"
    }
   ],
   "source": [
    "pwd"
   ]
  },
  {
   "cell_type": "code",
   "execution_count": null,
   "metadata": {
    "collapsed": true
   },
   "outputs": [],
   "source": []
  }
 ],
 "metadata": {
  "kernelspec": {
   "display_name": "Python 3",
   "language": "python",
   "name": "python3"
  },
  "language_info": {
   "codemirror_mode": {
    "name": "ipython",
    "version": 3
   },
   "file_extension": ".py",
   "mimetype": "text/x-python",
   "name": "python",
   "nbconvert_exporter": "python",
   "pygments_lexer": "ipython3",
   "version": "3.6.1"
  }
 },
 "nbformat": 4,
 "nbformat_minor": 2
}
